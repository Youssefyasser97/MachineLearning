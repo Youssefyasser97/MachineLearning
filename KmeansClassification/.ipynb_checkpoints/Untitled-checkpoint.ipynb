{
 "cells": [
  {
   "cell_type": "code",
   "execution_count": 77,
   "metadata": {},
   "outputs": [
    {
     "ename": "IndexError",
     "evalue": "index 785 is out of bounds for axis 0 with size 785",
     "output_type": "error",
     "traceback": [
      "\u001b[1;31m---------------------------------------------------------------------------\u001b[0m",
      "\u001b[1;31mIndexError\u001b[0m                                Traceback (most recent call last)",
      "\u001b[1;32m<ipython-input-77-a59f718f470b>\u001b[0m in \u001b[0;36m<module>\u001b[1;34m\u001b[0m\n\u001b[0;32m     45\u001b[0m     \u001b[1;32mfor\u001b[0m \u001b[0mi\u001b[0m \u001b[1;32min\u001b[0m \u001b[0mrange\u001b[0m\u001b[1;33m(\u001b[0m\u001b[1;36m0\u001b[0m\u001b[1;33m,\u001b[0m\u001b[1;36m2400\u001b[0m\u001b[1;33m)\u001b[0m\u001b[1;33m:\u001b[0m\u001b[1;33m\u001b[0m\u001b[0m\n\u001b[0;32m     46\u001b[0m         \u001b[0md\u001b[0m \u001b[1;33m=\u001b[0m \u001b[0mdistance\u001b[0m\u001b[1;33m.\u001b[0m\u001b[0meuclidean\u001b[0m\u001b[1;33m(\u001b[0m\u001b[0mXdelta\u001b[0m\u001b[1;33m[\u001b[0m\u001b[0mi\u001b[0m\u001b[1;33m]\u001b[0m\u001b[1;33m,\u001b[0m \u001b[0mmeans\u001b[0m\u001b[1;33m[\u001b[0m\u001b[0mj\u001b[0m\u001b[1;33m-\u001b[0m\u001b[1;36m1\u001b[0m\u001b[1;33m]\u001b[0m\u001b[1;33m)\u001b[0m\u001b[1;33m\u001b[0m\u001b[0m\n\u001b[1;32m---> 47\u001b[1;33m         \u001b[1;32mif\u001b[0m\u001b[1;33m(\u001b[0m\u001b[0md\u001b[0m\u001b[1;33m>\u001b[0m\u001b[0mmaxd\u001b[0m \u001b[1;33m&\u001b[0m \u001b[0mXdelta\u001b[0m\u001b[1;33m[\u001b[0m\u001b[0mi\u001b[0m\u001b[1;33m]\u001b[0m\u001b[1;33m[\u001b[0m\u001b[1;36m785\u001b[0m\u001b[1;33m]\u001b[0m \u001b[1;33m!=\u001b[0m \u001b[1;36m1\u001b[0m\u001b[1;33m)\u001b[0m\u001b[1;33m:\u001b[0m\u001b[1;33m\u001b[0m\u001b[0m\n\u001b[0m\u001b[0;32m     48\u001b[0m             \u001b[0mmaxd\u001b[0m \u001b[1;33m=\u001b[0m \u001b[0mdistance\u001b[0m\u001b[1;33m.\u001b[0m\u001b[0meuclidean\u001b[0m\u001b[1;33m(\u001b[0m\u001b[0mXdelta\u001b[0m\u001b[1;33m[\u001b[0m\u001b[0mi\u001b[0m\u001b[1;33m]\u001b[0m\u001b[1;33m,\u001b[0m \u001b[0mmeans\u001b[0m\u001b[1;33m[\u001b[0m\u001b[0mj\u001b[0m\u001b[1;33m-\u001b[0m\u001b[1;36m1\u001b[0m\u001b[1;33m]\u001b[0m\u001b[1;33m)\u001b[0m\u001b[1;33m\u001b[0m\u001b[0m\n\u001b[0;32m     49\u001b[0m             \u001b[0mnextmean\u001b[0m \u001b[1;33m=\u001b[0m \u001b[0mXdelta\u001b[0m\u001b[1;33m[\u001b[0m\u001b[0mi\u001b[0m\u001b[1;33m]\u001b[0m\u001b[1;33m\u001b[0m\u001b[0m\n",
      "\u001b[1;31mIndexError\u001b[0m: index 785 is out of bounds for axis 0 with size 785"
     ]
    }
   ],
   "source": [
    "from PIL import Image\n",
    "import numpy as np\n",
    "import seaborn as sns\n",
    "import matplotlib.pyplot as plt\n",
    "from scipy.spatial import distance\n",
    "import random \n",
    "\n",
    "\n",
    "\n",
    "\n",
    "Xdelta=np.zeros([2400,785])\n",
    "x = [ i for i in range(1,2401)]\n",
    "x1=np.ones([2400])\n",
    "filelist =list(map(str,x))\n",
    "\n",
    "for imagefile in filelist:\n",
    "    im=Image.open(\"F:\\Semester 9\\ML\\Assignment3\\Images/\"+imagefile+\".JPG\")\n",
    "    arrayimage =im.convert(\"L\")\n",
    "    imgarray = np.array(arrayimage)\n",
    "    imgarray=imgarray.reshape(28*28)\n",
    "    Xdelta[int(imagefile)-1][0:784]=imgarray\n",
    "    \n",
    "with open(\"F:\\Semester 9\\ML\\Assignment3\\Images/TestLabels.txt\", \"r\") as f:\n",
    "    TestLabels = [int(x) for x in f.read().split()]\n",
    "\n",
    "for i in range(0,2400):\n",
    "    for j in range(0,784):\n",
    "        if(Xdelta[i][j]>140):\n",
    "            Xdelta[i][j]=1\n",
    "        else:\n",
    "            Xdelta[i][j]=0\n",
    "    \n",
    "    \n",
    "    \n",
    "means = np.zeros([10,785])\n",
    "rand1 = random.randint(0, 2400)\n",
    "mean1 = Xdelta[rand1]\n",
    "means[0]= mean1\n",
    "maxd = 0\n",
    "\n",
    "\n",
    "            \n",
    "        \n",
    "for j in range(1,10):\n",
    "    for i in range(0,2400):\n",
    "        d = distance.euclidean(Xdelta[i], means[j-1])\n",
    "        if(d>maxd & Xdelta[i][784] != 1):\n",
    "            maxd = distance.euclidean(Xdelta[i], means[j-1])\n",
    "            nextmean = Xdelta[i]    \n",
    "    means[j]= nextmean\n",
    "    Xdelta[i][784] = 1\n",
    "\n",
    "print(sum(means))\n",
    "print(means.shape)\n",
    "\n"
   ]
  },
  {
   "cell_type": "code",
   "execution_count": 74,
   "metadata": {},
   "outputs": [
    {
     "data": {
      "text/plain": [
       "(784,)"
      ]
     },
     "execution_count": 74,
     "metadata": {},
     "output_type": "execute_result"
    }
   ],
   "source": [
    "sum(means).shape"
   ]
  },
  {
   "cell_type": "code",
   "execution_count": null,
   "metadata": {},
   "outputs": [],
   "source": []
  }
 ],
 "metadata": {
  "kernelspec": {
   "display_name": "Python 3",
   "language": "python",
   "name": "python3"
  },
  "language_info": {
   "codemirror_mode": {
    "name": "ipython",
    "version": 3
   },
   "file_extension": ".py",
   "mimetype": "text/x-python",
   "name": "python",
   "nbconvert_exporter": "python",
   "pygments_lexer": "ipython3",
   "version": "3.6.5"
  }
 },
 "nbformat": 4,
 "nbformat_minor": 2
}
