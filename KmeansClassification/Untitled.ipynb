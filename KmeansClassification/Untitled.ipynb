{
 "cells": [
  {
   "cell_type": "code",
   "execution_count": 119,
   "metadata": {},
   "outputs": [
    {
     "name": "stdout",
     "output_type": "stream",
     "text": [
      "[[0. 0. 0. ... 0. 0. 0.]\n",
      " [0. 0. 0. ... 0. 0. 0.]\n",
      " [0. 0. 0. ... 0. 0. 0.]\n",
      " ...\n",
      " [0. 0. 0. ... 0. 0. 0.]\n",
      " [0. 0. 0. ... 0. 0. 0.]\n",
      " [0. 0. 0. ... 0. 0. 0.]]\n"
     ]
    }
   ],
   "source": [
    "from PIL import Image\n",
    "import numpy as np\n",
    "import seaborn as sns\n",
    "import matplotlib.pyplot as plt\n",
    "from scipy.spatial import distance\n",
    "import random \n",
    "\n",
    "\n",
    "\n",
    "\n",
    "Xdelta=np.zeros([2400,784])\n",
    "x = [ i for i in range(1,2401)]\n",
    "x1=np.ones([2400])\n",
    "filelist =list(map(str,x))\n",
    "\n",
    "for imagefile in filelist:\n",
    "    im=Image.open(\"F:\\Semester 9\\ML\\Assignment3\\Images/\"+imagefile+\".JPG\")\n",
    "    arrayimage =im.convert(\"L\")\n",
    "    imgarray = np.array(arrayimage)\n",
    "    imgarray=imgarray.reshape(28*28)\n",
    "    Xdelta[int(imagefile)-1][0:784]=imgarray\n",
    "    \n",
    "with open(\"F:\\Semester 9\\ML\\Assignment3\\Images/TestLabels.txt\", \"r\") as f:\n",
    "    TestLabels = [int(x) for x in f.read().split()]\n",
    "\n",
    "for i in range(0,2400):\n",
    "    for j in range(0,784):\n",
    "        if(Xdelta[i][j]>140):\n",
    "            Xdelta[i][j]=1\n",
    "        else:\n",
    "            Xdelta[i][j]=0\n",
    "    \n",
    "    \n",
    "    \n",
    "means = np.zeros([10,784])\n",
    "rand1 = random.randint(0, 2400)\n",
    "mean1 = Xdelta[rand1]\n",
    "means[0]= mean1\n",
    "maxd = 0\n",
    "\n",
    "\n",
    "            \n",
    "        \n",
    "for j in range(1,10):\n",
    "    for i in range(0,2400):\n",
    "        d = distance.euclidean(Xdelta[i], means[j-1])\n",
    "        if(d>maxd):\n",
    "            maxd = distance.euclidean(Xdelta[i], means[j-1])\n",
    "            nextmean = Xdelta[i]  \n",
    "            mylasti = i\n",
    "    means[j]= nextmean\n",
    "    np.delete(Xdelta, mylasti, 0)    \n",
    "print(means)\n",
    "\n",
    "\n"
   ]
  },
  {
   "cell_type": "code",
   "execution_count": 121,
   "metadata": {},
   "outputs": [
    {
     "data": {
      "text/plain": [
       "array([[0., 0., 0., ..., 0., 0., 0.],\n",
       "       [0., 0., 0., ..., 0., 0., 0.],\n",
       "       [0., 0., 0., ..., 0., 0., 0.],\n",
       "       ...,\n",
       "       [0., 0., 0., ..., 0., 0., 0.],\n",
       "       [0., 0., 0., ..., 0., 0., 0.],\n",
       "       [0., 0., 0., ..., 0., 0., 0.]])"
      ]
     },
     "execution_count": 121,
     "metadata": {},
     "output_type": "execute_result"
    }
   ],
   "source": [
    "means"
   ]
  },
  {
   "cell_type": "code",
   "execution_count": null,
   "metadata": {},
   "outputs": [],
   "source": []
  }
 ],
 "metadata": {
  "kernelspec": {
   "display_name": "Python 3",
   "language": "python",
   "name": "python3"
  },
  "language_info": {
   "codemirror_mode": {
    "name": "ipython",
    "version": 3
   },
   "file_extension": ".py",
   "mimetype": "text/x-python",
   "name": "python",
   "nbconvert_exporter": "python",
   "pygments_lexer": "ipython3",
   "version": "3.6.5"
  }
 },
 "nbformat": 4,
 "nbformat_minor": 2
}
